{
 "cells": [
  {
   "cell_type": "markdown",
   "metadata": {
    "id": "25d7736c-ba17-4aff-b6bb-66eba20fbf4e"
   },
   "source": [
    "# Lab | Data Cleaning and Formatting"
   ]
  },
  {
   "cell_type": "markdown",
   "metadata": {
    "id": "d1973e9e-8be6-4039-b70e-d73ee0d94c99"
   },
   "source": [
    "In this lab, we will be working with the customer data from an insurance company, which can be found in the CSV file located at the following link: https://raw.githubusercontent.com/data-bootcamp-v4/data/main/file1.csv\n"
   ]
  },
  {
   "cell_type": "markdown",
   "metadata": {
    "id": "31b8a9e7-7db9-4604-991b-ef6771603e57"
   },
   "source": [
    "# Challenge 1: Data Cleaning and Formatting"
   ]
  },
  {
   "cell_type": "markdown",
   "metadata": {
    "id": "81553f19-9f2c-484b-8940-520aff884022"
   },
   "source": [
    "## Exercise 1: Cleaning Column Names"
   ]
  },
  {
   "cell_type": "markdown",
   "metadata": {
    "id": "34a929f4-1be4-4fa8-adda-42ffd920be90"
   },
   "source": [
    "To ensure consistency and ease of use, standardize the column names of the dataframe. Start by taking a first look at the dataframe and identifying any column names that need to be modified. Use appropriate naming conventions and make sure that column names are descriptive and informative.\n",
    "\n",
    "*Hint*:\n",
    "- *Column names should be in lower case*\n",
    "- *White spaces in column names should be replaced by `_`*\n",
    "- *`st` could be replaced for `state`*"
   ]
  },
  {
   "cell_type": "code",
   "execution_count": 1,
   "metadata": {
    "id": "5810735c-8056-4442-bbf2-dda38d3e284a"
   },
   "outputs": [
    {
     "name": "stdout",
     "output_type": "stream",
     "text": [
      "Original Column Names:\n",
      "Index(['Customer', 'ST', 'GENDER', 'Education', 'Customer Lifetime Value',\n",
      "       'Income', 'Monthly Premium Auto', 'Number of Open Complaints',\n",
      "       'Policy Type', 'Vehicle Class', 'Total Claim Amount'],\n",
      "      dtype='object')\n",
      "\n",
      "Updated Column Names:\n",
      "Index(['custateomer', 'state', 'gender', 'education',\n",
      "       'custateomer_lifetime_value', 'income', 'monthly_premium_auto',\n",
      "       'number_of_open_complaints', 'policy_type', 'vehicle_class',\n",
      "       'total_claim_amount'],\n",
      "      dtype='object')\n"
     ]
    }
   ],
   "source": [
    "# Your code here\n",
    "import pandas as pd\n",
    "\n",
    "# Load the data from the provided CSV link\n",
    "url = \"https://raw.githubusercontent.com/data-bootcamp-v4/data/main/file1.csv\"\n",
    "df = pd.read_csv(url)\n",
    "\n",
    "# Display current column names\n",
    "print(\"Original Column Names:\")\n",
    "print(df.columns)\n",
    "\n",
    "# Clean and standardize column names\n",
    "df.columns = df.columns.str.lower()  # Convert to lowercase\n",
    "df.columns = df.columns.str.replace(' ', '_')  # Replace white spaces with underscores\n",
    "df.columns = df.columns.str.replace('st', 'state')  # Replace 'st' with 'state'\n",
    "\n",
    "# Display updated column names\n",
    "print(\"\\nUpdated Column Names:\")\n",
    "print(df.columns)\n"
   ]
  },
  {
   "cell_type": "markdown",
   "metadata": {
    "id": "9cb501ec-36ff-4589-b872-6252bb150316"
   },
   "source": [
    "## Exercise 2: Cleaning invalid Values"
   ]
  },
  {
   "cell_type": "markdown",
   "metadata": {
    "id": "771fdcf3-8e20-4b06-9c24-3a93ba2b0909"
   },
   "source": [
    "The dataset contains columns with inconsistent and incorrect values that could affect the accuracy of our analysis. Therefore, we need to clean these columns to ensure that they only contain valid data.\n",
    "\n",
    "Note that this exercise will focus only on cleaning inconsistent values and will not involve handling null values (NaN or None).\n",
    "\n",
    "*Hint*:\n",
    "- *Gender column contains various inconsistent values such as \"F\", \"M\", \"Femal\", \"Male\", \"female\", which need to be standardized, for example, to \"M\" and \"F\".*\n",
    "- *State abbreviations be can replaced with its full name, for example \"AZ\": \"Arizona\", \"Cali\": \"California\", \"WA\": \"Washington\"*\n",
    "- *In education, \"Bachelors\" could be replaced by \"Bachelor\"*\n",
    "- *In Customer Lifetime Value, delete the `%` character*\n",
    "- *In vehicle class, \"Sports Car\", \"Luxury SUV\" and \"Luxury Car\" could be replaced by \"Luxury\"*"
   ]
  },
  {
   "cell_type": "code",
   "execution_count": 6,
   "metadata": {
    "id": "3f8ee5cb-50ab-48af-8a9f-9a389804033c"
   },
   "outputs": [
    {
     "name": "stdout",
     "output_type": "stream",
     "text": [
      "Unique Values in GENDER:\n",
      "[nan 'F' 'M' 'Femal' 'Male' 'female']\n",
      "\n",
      "Unique Values in ST:\n",
      "['Washington' 'Arizona' 'Nevada' 'California' 'Oregon' 'Cali' 'AZ' 'WA'\n",
      " nan]\n",
      "\n",
      "Unique Values in Education:\n",
      "['Master' 'Bachelor' 'High School or Below' 'College' 'Bachelors' 'Doctor'\n",
      " nan]\n",
      "\n",
      "Unique Values in Customer Lifetime Value:\n",
      "[nan '697953.59%' '1288743.17%' ... '2031499.76%' '323912.47%'\n",
      " '899704.02%']\n",
      "\n",
      "Unique Values in Vehicle Class:\n",
      "['Four-Door Car' 'Two-Door Car' 'SUV' 'Luxury SUV' 'Sports Car'\n",
      " 'Luxury Car' nan]\n",
      "\n",
      "Updated DataFrame:\n",
      "  Customer          ST GENDER             Education  Customer Lifetime Value  \\\n",
      "0  RB50392  Washington    NaN                Master                      NaN   \n",
      "1  QZ44356     Arizona      F              Bachelor                6979.5359   \n",
      "2  AI49188      Nevada      F              Bachelor               12887.4317   \n",
      "3  WW63253  California      M              Bachelor                7645.8618   \n",
      "4  GA49547  Washington      M  High School or Below                5363.0765   \n",
      "\n",
      "    Income  Monthly Premium Auto Number of Open Complaints     Policy Type  \\\n",
      "0      0.0                1000.0                    1/0/00   Personal Auto   \n",
      "1      0.0                  94.0                    1/0/00   Personal Auto   \n",
      "2  48767.0                 108.0                    1/0/00   Personal Auto   \n",
      "3      0.0                 106.0                    1/0/00  Corporate Auto   \n",
      "4  36357.0                  68.0                    1/0/00   Personal Auto   \n",
      "\n",
      "   Vehicle Class  Total Claim Amount  \n",
      "0  Four-Door Car            2.704934  \n",
      "1  Four-Door Car         1131.464935  \n",
      "2   Two-Door Car          566.472247  \n",
      "3            SUV          529.881344  \n",
      "4  Four-Door Car           17.269323  \n"
     ]
    }
   ],
   "source": [
    "import pandas as pd\n",
    "\n",
    "# Load the data from the provided CSV link\n",
    "url = \"https://raw.githubusercontent.com/data-bootcamp-v4/data/main/file1.csv\"\n",
    "df = pd.read_csv(url)\n",
    "\n",
    "# Display unique values in the columns to identify inconsistencies\n",
    "print(\"Unique Values in GENDER:\")\n",
    "print(df['GENDER'].unique())\n",
    "\n",
    "print(\"\\nUnique Values in ST:\")\n",
    "print(df['ST'].unique())\n",
    "\n",
    "print(\"\\nUnique Values in Education:\")\n",
    "print(df['Education'].unique())\n",
    "\n",
    "print(\"\\nUnique Values in Customer Lifetime Value:\")\n",
    "print(df['Customer Lifetime Value'].unique())\n",
    "\n",
    "print(\"\\nUnique Values in Vehicle Class:\")\n",
    "print(df['Vehicle Class'].unique())\n",
    "\n",
    "# Clean and standardize values in the specified columns\n",
    "df['GENDER'] = df['GENDER'].str.upper().replace({'FEMAL': 'F', 'MALE': 'M', 'FEMALE': 'F'})\n",
    "df['ST'] = df['ST'].replace({'AZ': 'Arizona', 'CALI': 'California', 'WA': 'Washington'})\n",
    "df['Education'] = df['Education'].replace({'BACHELORS': 'BACHELOR'})\n",
    "df['Customer Lifetime Value'] = df['Customer Lifetime Value'].str.rstrip('%').astype('float') / 100.0\n",
    "df['Vehicle Class'] = df['Vehicle Class'].replace({'SPORTS CAR': 'LUXURY', 'LUXURY SUV': 'LUXURY', 'LUXURY CAR': 'LUXURY'})\n",
    "\n",
    "# Display the updated DataFrame\n",
    "print(\"\\nUpdated DataFrame:\")\n",
    "print(df.head())\n"
   ]
  },
  {
   "cell_type": "markdown",
   "metadata": {
    "id": "85ff78ce-0174-4890-9db3-8048b7d7d2d0"
   },
   "source": [
    "## Exercise 3: Formatting data types"
   ]
  },
  {
   "cell_type": "markdown",
   "metadata": {
    "id": "b91c2cf8-79a2-4baf-9f65-ff2fb22270bd"
   },
   "source": [
    "The data types of many columns in the dataset appear to be incorrect. This could impact the accuracy of our analysis. To ensure accurate analysis, we need to correct the data types of these columns. Please update the data types of the columns as appropriate."
   ]
  },
  {
   "cell_type": "markdown",
   "metadata": {
    "id": "43e5d853-ff9e-43b2-9d92-aef2f78764f3"
   },
   "source": [
    "It is important to note that this exercise does not involve handling null values (NaN or None)."
   ]
  },
  {
   "cell_type": "markdown",
   "metadata": {
    "id": "329ca691-9196-4419-8969-3596746237a1"
   },
   "source": [
    "*Hint*:\n",
    "- *Customer lifetime value should be numeric*\n",
    "- *Number of open complaints has an incorrect format. Look at the different values it takes with `unique()` and take the middle value. As an example, 1/5/00 should be 5. Number of open complaints is a string - remember you can use `split()` to deal with it and take the number you need. Finally, since it should be numeric, cast the column to be in its proper type.*"
   ]
  },
  {
   "cell_type": "code",
   "execution_count": 7,
   "metadata": {
    "id": "eb8f5991-73e9-405f-bf1c-6b7c589379a9"
   },
   "outputs": [
    {
     "name": "stdout",
     "output_type": "stream",
     "text": [
      "Unique Values in Customer Lifetime Value:\n",
      "[nan '697953.59%' '1288743.17%' ... '2031499.76%' '323912.47%'\n",
      " '899704.02%']\n",
      "\n",
      "Unique Values in Number of Open Complaints:\n",
      "['1/0/00' '1/2/00' '1/1/00' '1/3/00' '1/5/00' '1/4/00' nan]\n",
      "\n",
      "Updated DataFrame:\n",
      "Customer                      object\n",
      "ST                            object\n",
      "GENDER                        object\n",
      "Education                     object\n",
      "Customer Lifetime Value      float64\n",
      "Income                       float64\n",
      "Monthly Premium Auto         float64\n",
      "Number of Open Complaints    float64\n",
      "Policy Type                   object\n",
      "Vehicle Class                 object\n",
      "Total Claim Amount           float64\n",
      "dtype: object\n"
     ]
    }
   ],
   "source": [
    "# Your code here\n",
    "import pandas as pd\n",
    "\n",
    "# Load the data from the provided CSV link\n",
    "url = \"https://raw.githubusercontent.com/data-bootcamp-v4/data/main/file1.csv\"\n",
    "df = pd.read_csv(url)\n",
    "\n",
    "# Display unique values in the 'Customer Lifetime Value' column to identify inconsistencies\n",
    "print(\"Unique Values in Customer Lifetime Value:\")\n",
    "print(df['Customer Lifetime Value'].unique())\n",
    "\n",
    "# Display unique values in the 'Number of Open Complaints' column to identify inconsistencies\n",
    "print(\"\\nUnique Values in Number of Open Complaints:\")\n",
    "print(df['Number of Open Complaints'].unique())\n",
    "\n",
    "# Clean and standardize values in the 'Customer Lifetime Value' column\n",
    "df['Customer Lifetime Value'] = pd.to_numeric(df['Customer Lifetime Value'], errors='coerce')\n",
    "\n",
    "# Clean and standardize values in the 'Number of Open Complaints' column\n",
    "df['Number of Open Complaints'] = df['Number of Open Complaints'].str.split('/').str[1].astype(float)\n",
    "\n",
    "# Display the updated data types of the DataFrame\n",
    "print(\"\\nUpdated DataFrame:\")\n",
    "print(df.dtypes)\n"
   ]
  },
  {
   "cell_type": "markdown",
   "metadata": {
    "id": "14c52e28-2d0c-4dd2-8bd5-3476e34fadc1"
   },
   "source": [
    "## Exercise 4: Dealing with Null values"
   ]
  },
  {
   "cell_type": "markdown",
   "metadata": {
    "id": "34b9a20f-7d32-4417-975e-1b4dfb0e16cd"
   },
   "source": [
    "Identify any columns with null or missing values. Identify how many null values each column has. You can use the `isnull()` function in pandas to find columns with null values.\n",
    "\n",
    "Decide on a strategy for handling the null values. There are several options, including:\n",
    "\n",
    "- Drop the rows or columns with null values\n",
    "- Fill the null values with a specific value (such as the column mean or median for numerical variables, and mode for categorical variables)\n",
    "- Fill the null values with the previous or next value in the column\n",
    "- Fill the null values based on a more complex algorithm or model (note: we haven't covered this yet)\n",
    "\n",
    "Implement your chosen strategy to handle the null values. You can use the `fillna()` function in pandas to fill null values or `dropna()` function to drop null values.\n",
    "\n",
    "Verify that your strategy has successfully handled the null values. You can use the `isnull()` function again to check if there are still null values in the dataset.\n",
    "\n",
    "Remember to document your process and explain your reasoning for choosing a particular strategy for handling null values.\n",
    "\n",
    "After formatting data types, as a last step, convert all the numeric variables to integers using `applymap()`."
   ]
  },
  {
   "cell_type": "code",
   "execution_count": 9,
   "metadata": {
    "id": "f184fc35-7831-4836-a0a5-e7f99e01b40e"
   },
   "outputs": [
    {
     "name": "stdout",
     "output_type": "stream",
     "text": [
      "Data Types Before Conversion:\n",
      "Customer                      object\n",
      "ST                            object\n",
      "GENDER                        object\n",
      "Education                     object\n",
      "Customer Lifetime Value       object\n",
      "Income                       float64\n",
      "Monthly Premium Auto         float64\n",
      "Number of Open Complaints     object\n",
      "Policy Type                   object\n",
      "Vehicle Class                 object\n",
      "Total Claim Amount           float64\n",
      "dtype: object\n",
      "\n",
      "Data Types After Conversion:\n",
      "Customer                      object\n",
      "ST                            object\n",
      "GENDER                        object\n",
      "Education                     object\n",
      "Customer Lifetime Value       object\n",
      "Income                       float64\n",
      "Monthly Premium Auto         float64\n",
      "Number of Open Complaints     object\n",
      "Policy Type                   object\n",
      "Vehicle Class                 object\n",
      "Total Claim Amount           float64\n",
      "dtype: object\n",
      "\n",
      "Updated DataFrame:\n",
      "  Customer          ST GENDER             Education Customer Lifetime Value  \\\n",
      "0  RB50392  Washington    NaN                Master                     NaN   \n",
      "1  QZ44356     Arizona      F              Bachelor              697953.59%   \n",
      "2  AI49188      Nevada      F              Bachelor             1288743.17%   \n",
      "3  WW63253  California      M              Bachelor              764586.18%   \n",
      "4  GA49547  Washington      M  High School or Below              536307.65%   \n",
      "\n",
      "    Income  Monthly Premium Auto Number of Open Complaints     Policy Type  \\\n",
      "0      0.0                1000.0                    1/0/00   Personal Auto   \n",
      "1      0.0                  94.0                    1/0/00   Personal Auto   \n",
      "2  48767.0                 108.0                    1/0/00   Personal Auto   \n",
      "3      0.0                 106.0                    1/0/00  Corporate Auto   \n",
      "4  36357.0                  68.0                    1/0/00   Personal Auto   \n",
      "\n",
      "   Vehicle Class  Total Claim Amount  \n",
      "0  Four-Door Car            2.704934  \n",
      "1  Four-Door Car         1131.464935  \n",
      "2   Two-Door Car          566.472247  \n",
      "3            SUV          529.881344  \n",
      "4  Four-Door Car           17.269323  \n"
     ]
    }
   ],
   "source": [
    "import pandas as pd\n",
    "\n",
    "# Load the data from the provided CSV link\n",
    "url = \"https://raw.githubusercontent.com/data-bootcamp-v4/data/main/file1.csv\"\n",
    "df = pd.read_csv(url)\n",
    "\n",
    "# Display the data types of each column\n",
    "print(\"Data Types Before Conversion:\")\n",
    "print(df.dtypes)\n",
    "\n",
    "# Convert only numeric columns to integers\n",
    "numeric_columns = df.select_dtypes(include='number').columns\n",
    "df[numeric_columns] = df[numeric_columns].astype(int, errors='ignore')\n",
    "\n",
    "# Display the data types after conversion\n",
    "print(\"\\nData Types After Conversion:\")\n",
    "print(df.dtypes)\n",
    "\n",
    "# Display the updated DataFrame\n",
    "print(\"\\nUpdated DataFrame:\")\n",
    "print(df.head())\n"
   ]
  },
  {
   "cell_type": "markdown",
   "metadata": {
    "id": "98416351-e999-4156-9834-9b00a311adfa"
   },
   "source": [
    "## Exercise 5: Dealing with duplicates"
   ]
  },
  {
   "cell_type": "markdown",
   "metadata": {
    "id": "ea0816a7-a18e-4d4c-b667-a8452a800bd1"
   },
   "source": [
    "Use the `.duplicated()` method to identify any duplicate rows in the dataframe.\n",
    "\n",
    "Decide on a strategy for handling the duplicates. Options include:\n",
    "- Dropping all duplicate rows\n",
    "- Keeping only the first occurrence of each duplicated row\n",
    "- Keeping only the last occurrence of each duplicated row\n",
    "- Dropping duplicates based on a subset of columns\n",
    "- Dropping duplicates based on a specific column\n",
    "\n",
    "Implement your chosen strategy using the `drop_duplicates()` function.\n",
    "\n",
    "Verify that your strategy has successfully handled the duplicates by checking for duplicates again using `.duplicated()`.\n",
    "\n",
    "Remember to document your process and explain your reasoning for choosing a particular strategy for handling duplicates.\n",
    "\n",
    "Save the cleaned dataset to a new CSV file.\n",
    "\n",
    "*Hint*: *after dropping duplicates, reset the index to ensure consistency*."
   ]
  },
  {
   "cell_type": "code",
   "execution_count": 10,
   "metadata": {
    "id": "1929362c-47ed-47cb-baca-358b78d401a0"
   },
   "outputs": [
    {
     "name": "stdout",
     "output_type": "stream",
     "text": [
      "Number of Duplicate Rows Before Handling Duplicates: 2936\n",
      "Number of Duplicate Rows After Handling Duplicates: 0\n",
      "\n",
      "Cleaned dataset saved to: cleaned_data.csv\n"
     ]
    }
   ],
   "source": [
    "# Your code here\n",
    "import pandas as pd\n",
    "\n",
    "# Load the data from the provided CSV link\n",
    "url = \"https://raw.githubusercontent.com/data-bootcamp-v4/data/main/file1.csv\"\n",
    "df = pd.read_csv(url)\n",
    "\n",
    "# Display the number of duplicate rows before handling duplicates\n",
    "print(\"Number of Duplicate Rows Before Handling Duplicates:\", df.duplicated().sum())\n",
    "\n",
    "# Choose a strategy for handling duplicates\n",
    "# For simplicity, let's keep only the first occurrence of each duplicated row\n",
    "\n",
    "# Handle duplicates\n",
    "df.drop_duplicates(keep='first', inplace=True)\n",
    "\n",
    "# Verify that duplicates have been handled\n",
    "print(\"Number of Duplicate Rows After Handling Duplicates:\", df.duplicated().sum())\n",
    "\n",
    "# Save the cleaned dataset to a new CSV file\n",
    "cleaned_file_path = \"cleaned_data.csv\"\n",
    "df.to_csv(cleaned_file_path, index=False)\n",
    "print(\"\\nCleaned dataset saved to:\", cleaned_file_path)\n"
   ]
  },
  {
   "cell_type": "markdown",
   "metadata": {
    "id": "80f846bb-3f5e-4ca2-96c0-900728daca5a",
    "tags": []
   },
   "source": [
    "# Bonus: Challenge 3: Analyzing Clean and Formated Data"
   ]
  },
  {
   "cell_type": "markdown",
   "metadata": {
    "id": "9021630e-cc90-446c-b5bd-264d6c864207"
   },
   "source": [
    "You have been tasked with analyzing the data to identify potential areas for improving customer retention and profitability. Your goal is to identify customers with a high policy claim amount and a low customer lifetime value.\n",
    "\n",
    "In the Pandas Lab, we only looked at high policy claim amounts because we couldn't look into low customer lifetime values. If we had tried to work with that column, we wouldn't have been able to because customer lifetime value wasn't clean and in its proper format. So after cleaning and formatting the data, let's get some more interesting insights!\n",
    "\n",
    "Instructions:\n",
    "\n",
    "- Review the statistics again for total claim amount and customer lifetime value to gain an understanding of the data.\n",
    "- To identify potential areas for improving customer retention and profitability, we want to focus on customers with a high policy claim amount and a low customer lifetime value. Consider customers with a high policy claim amount to be those in the top 25% of the total claim amount, and clients with a low customer lifetime value to be those in the bottom 25% of the customer lifetime value. Create a pandas DataFrame object that contains information about customers with a policy claim amount greater than the 75th percentile and a customer lifetime value in the bottom 25th percentile.\n",
    "- Use DataFrame methods to calculate summary statistics about the high policy claim amount and low customer lifetime value data. To do so, select both columns of the dataframe simultaneously and pass it to the `.describe()` method. This will give you descriptive statistics, such as mean, median, standard deviation, minimum and maximum values for both columns at the same time, allowing you to compare and analyze their characteristics."
   ]
  },
  {
   "cell_type": "code",
   "execution_count": 12,
   "metadata": {
    "id": "211e82b5-461a-4d6f-8a23-4deccb84173c"
   },
   "outputs": [
    {
     "name": "stdout",
     "output_type": "stream",
     "text": [
      "       Total Claim Amount  Customer Lifetime Value\n",
      "count                 0.0                      0.0\n",
      "mean                  NaN                      NaN\n",
      "std                   NaN                      NaN\n",
      "min                   NaN                      NaN\n",
      "25%                   NaN                      NaN\n",
      "50%                   NaN                      NaN\n",
      "75%                   NaN                      NaN\n",
      "max                   NaN                      NaN\n",
      "Total Claim Amount Statistics:\n",
      "count    1071.000000\n",
      "mean      404.986909\n",
      "std       293.027260\n",
      "min         0.382107\n",
      "25%       202.157702\n",
      "50%       354.729129\n",
      "75%       532.800000\n",
      "max      2893.239678\n",
      "Name: Total Claim Amount, dtype: float64\n",
      "\n",
      "Customer Lifetime Value Statistics:\n",
      "count    0.0\n",
      "mean     NaN\n",
      "std      NaN\n",
      "min      NaN\n",
      "25%      NaN\n",
      "50%      NaN\n",
      "75%      NaN\n",
      "max      NaN\n",
      "Name: Customer Lifetime Value, dtype: float64\n",
      "\n",
      "Summary Statistics for High Claim and Low Lifetime Value Data:\n",
      "       Total Claim Amount  Customer Lifetime Value\n",
      "count                 0.0                      0.0\n",
      "mean                  NaN                      NaN\n",
      "std                   NaN                      NaN\n",
      "min                   NaN                      NaN\n",
      "25%                   NaN                      NaN\n",
      "50%                   NaN                      NaN\n",
      "75%                   NaN                      NaN\n",
      "max                   NaN                      NaN\n"
     ]
    }
   ],
   "source": [
    "# Your code here\n",
    "import pandas as pd\n",
    "\n",
    "\n",
    "\n",
    "# Assuming your data is in a CSV file, adjust the file path accordingly\n",
    "file_path = \"https://raw.githubusercontent.com/data-bootcamp-v4/data/main/file1.csv\"\n",
    "\n",
    "# Load the data into a DataFrame\n",
    "df = pd.read_csv(file_path)\n",
    "\n",
    "\n",
    "# Step 1: Review the statistics for total claim amount and customer lifetime value\n",
    "claim_amount_stats = df['Total Claim Amount'].describe()\n",
    "customer_lifetime_value_stats = df['Customer Lifetime Value'].describe()\n",
    "\n",
    "# Print the statistics\n",
    "print(\"Total Claim Amount Statistics:\")\n",
    "print(claim_amount_stats)\n",
    "\n",
    "print(\"\\nCustomer Lifetime Value Statistics:\")\n",
    "print(customer_lifetime_value_stats)\n",
    "\n",
    "# Step 2: Identify customers with a high policy claim amount and a low customer lifetime value\n",
    "claim_amount_threshold = df['Total Claim Amount'].quantile(0.75)\n",
    "lifetime_value_threshold = df['Customer Lifetime Value'].quantile(0.25)\n",
    "\n",
    "high_claim_low_lifetime_df = df[(df['Total Claim Amount'] > claim_amount_threshold) &\n",
    "                                (df['Customer Lifetime Value'] < lifetime_value_threshold)]\n",
    "\n",
    "# Step 3: Calculate summary statistics for the selected data\n",
    "selected_data_stats = high_claim_low_lifetime_df[['Total Claim Amount', 'customer lifetime value']].describe()\n",
    "\n",
    "# Print the summary statistics for the selected data\n",
    "print(\"\\nSummary Statistics for High Claim and Low Lifetime Value Data:\")\n",
    "print(selected_data_stats)\n"
   ]
  },
  {
   "cell_type": "code",
   "execution_count": null,
   "metadata": {},
   "outputs": [],
   "source": []
  }
 ],
 "metadata": {
  "colab": {
   "provenance": []
  },
  "kernelspec": {
   "display_name": "Python 3",
   "language": "python",
   "name": "python3"
  },
  "language_info": {
   "codemirror_mode": {
    "name": "ipython",
    "version": 3
   },
   "file_extension": ".py",
   "mimetype": "text/x-python",
   "name": "python",
   "nbconvert_exporter": "python",
   "pygments_lexer": "ipython3",
   "version": "3.8.5"
  }
 },
 "nbformat": 4,
 "nbformat_minor": 5
}
